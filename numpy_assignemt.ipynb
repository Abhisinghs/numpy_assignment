{
 "cells": [
  {
   "cell_type": "code",
   "execution_count": 43,
   "id": "7f87eff8-a4c1-4dc1-a2d6-2b714f2655dc",
   "metadata": {},
   "outputs": [],
   "source": [
    "#first we given data is \n",
    "\n",
    "import numpy as np\n",
    "list=['1','2','3','4','5']\n",
    "array_list=np.array(object=list)"
   ]
  },
  {
   "cell_type": "code",
   "execution_count": 44,
   "id": "a4e6cd58-a812-4dae-920a-5b5956770c37",
   "metadata": {},
   "outputs": [
    {
     "data": {
      "text/plain": [
       "list"
      ]
     },
     "execution_count": 44,
     "metadata": {},
     "output_type": "execute_result"
    }
   ],
   "source": [
    "type(list)"
   ]
  },
  {
   "cell_type": "code",
   "execution_count": 50,
   "id": "c304124f-66e7-4eb1-a2d0-178c96198426",
   "metadata": {},
   "outputs": [
    {
     "data": {
      "text/plain": [
       "numpy.ndarray"
      ]
     },
     "execution_count": 50,
     "metadata": {},
     "output_type": "execute_result"
    }
   ],
   "source": [
    "type(array_list)"
   ]
  },
  {
   "cell_type": "code",
   "execution_count": 46,
   "id": "6eb5d4ff-d442-4f74-9319-e89e226563f0",
   "metadata": {},
   "outputs": [
    {
     "ename": "SyntaxError",
     "evalue": "invalid syntax (2817261851.py, line 2)",
     "output_type": "error",
     "traceback": [
      "\u001b[0;36m  Cell \u001b[0;32mIn[46], line 2\u001b[0;36m\u001b[0m\n\u001b[0;31m    list contain multiple data type element in a list\u001b[0m\n\u001b[0m         ^\u001b[0m\n\u001b[0;31mSyntaxError\u001b[0m\u001b[0;31m:\u001b[0m invalid syntax\n"
     ]
    }
   ],
   "source": [
    "#list and array are very different because \n",
    "list contain multiple data type element in a list \n",
    "list are mutable \n",
    "list inside a list can be created \n",
    "list are the one type of data in python\n",
    "\n",
    "array is a special type of data structure \n",
    "array is group of variable \n",
    "array is a linear collection of similar element\n",
    "we can access the element by single subscript\n",
    "arr[0] \n",
    "array contain only similar type of element "
   ]
  },
  {
   "cell_type": "code",
   "execution_count": 47,
   "id": "70896ee9-0459-4148-a064-2f2afbb19544",
   "metadata": {},
   "outputs": [
    {
     "name": "stdout",
     "output_type": "stream",
     "text": [
      "<class 'str'>\n",
      "<class 'str'>\n",
      "<class 'str'>\n",
      "<class 'str'>\n",
      "<class 'str'>\n"
     ]
    }
   ],
   "source": [
    "#Answer_2\n",
    "\n",
    "#first we find data type of all element in list variable\n",
    "for i in list:\n",
    "    print(type(i))"
   ]
  },
  {
   "cell_type": "code",
   "execution_count": 51,
   "id": "179d625d-8efd-4988-acaa-51916df09fe4",
   "metadata": {},
   "outputs": [
    {
     "name": "stdout",
     "output_type": "stream",
     "text": [
      "<class 'numpy.str_'>\n",
      "<class 'numpy.str_'>\n",
      "<class 'numpy.str_'>\n",
      "<class 'numpy.str_'>\n",
      "<class 'numpy.str_'>\n"
     ]
    }
   ],
   "source": [
    "#now we find the data type of all element in array_list\n",
    "for i in array_list:\n",
    "    print(type(i))"
   ]
  },
  {
   "cell_type": "code",
   "execution_count": 34,
   "id": "1abda4d9-6bd7-471f-9f69-65bcda5cdbcf",
   "metadata": {},
   "outputs": [],
   "source": [
    "#Answer_3\n",
    "\n",
    "#some changes of array_list\n",
    "array_list = np.array(object = list, dtype = int)"
   ]
  },
  {
   "cell_type": "code",
   "execution_count": 35,
   "id": "7fabb2d2-b1b4-410d-bd57-f47c185938a8",
   "metadata": {},
   "outputs": [
    {
     "data": {
      "text/plain": [
       "array([1, 2, 3, 4, 5])"
      ]
     },
     "execution_count": 35,
     "metadata": {},
     "output_type": "execute_result"
    }
   ],
   "source": [
    "array_list"
   ]
  },
  {
   "cell_type": "code",
   "execution_count": 37,
   "id": "d7ed3991-0794-41b2-9872-6850722cdffa",
   "metadata": {},
   "outputs": [
    {
     "name": "stdout",
     "output_type": "stream",
     "text": [
      "<class 'str'>\n",
      "<class 'str'>\n",
      "<class 'str'>\n",
      "<class 'str'>\n",
      "<class 'str'>\n"
     ]
    }
   ],
   "source": [
    "#data type of variable list elements\n",
    "for i in list:\n",
    "    print(type(i))"
   ]
  },
  {
   "cell_type": "code",
   "execution_count": 41,
   "id": "887f7700-4441-41e4-8382-7edae626633e",
   "metadata": {},
   "outputs": [
    {
     "name": "stdout",
     "output_type": "stream",
     "text": [
      "int64\n",
      "int64\n",
      "int64\n",
      "int64\n",
      "int64\n"
     ]
    }
   ],
   "source": [
    "#data type of array_list elements\n",
    "for i in array_list:\n",
    "    print(i.dtype)"
   ]
  },
  {
   "cell_type": "code",
   "execution_count": null,
   "id": "0bbfc66d-568d-4606-bc77-90d1e72ee2e2",
   "metadata": {},
   "outputs": [],
   "source": [
    "#both have different data type because list contain string type elements \n",
    "# and array_list contain the integer type element so we can not perform mathematics operation on string element"
   ]
  },
  {
   "cell_type": "code",
   "execution_count": 52,
   "id": "12a3dc81-c4e9-4f6c-8f5d-667ccf608598",
   "metadata": {},
   "outputs": [],
   "source": [
    "#Answer_4\n",
    "\n",
    "#given that \n",
    "\n",
    "import numpy as np\n",
    "num_list = [[1,2,3],[4,5,6]]\n",
    "num_array = np.array(object = num_list)"
   ]
  },
  {
   "cell_type": "code",
   "execution_count": 61,
   "id": "90fd0175-d0c9-4c1a-a29e-ad29cf092ff1",
   "metadata": {},
   "outputs": [
    {
     "data": {
      "text/plain": [
       "array([[1, 2, 3],\n",
       "       [4, 5, 6]])"
      ]
     },
     "execution_count": 61,
     "metadata": {},
     "output_type": "execute_result"
    }
   ],
   "source": [
    "#first we check our num_array\n",
    "num_array\n",
    "#num_array is a 2_D array "
   ]
  },
  {
   "cell_type": "code",
   "execution_count": 57,
   "id": "76d1b935-30d9-4c69-bbed-0537be93fb4d",
   "metadata": {},
   "outputs": [
    {
     "data": {
      "text/plain": [
       "(2, 3)"
      ]
     },
     "execution_count": 57,
     "metadata": {},
     "output_type": "execute_result"
    }
   ],
   "source": [
    "#i)shape \n",
    "np.shape(num_array)\n",
    "\n",
    "#it indicates that the which is the shape of the array it means \n",
    "#how many row and column are present in array \n",
    "#   2 - it shows that 2 row present in array\n",
    "#   3 - it shows that 3 column are present in array \n"
   ]
  },
  {
   "cell_type": "code",
   "execution_count": 59,
   "id": "90521394-d125-4fe7-bf92-a4a34f31b8d7",
   "metadata": {},
   "outputs": [
    {
     "data": {
      "text/plain": [
       "6"
      ]
     },
     "execution_count": 59,
     "metadata": {},
     "output_type": "execute_result"
    }
   ],
   "source": [
    "#ii)size\n",
    "np.size(num_array)\n",
    "\n",
    "#this method is indicated the how many elements are present in the array\n",
    "#so six elements are present in the array \n"
   ]
  },
  {
   "cell_type": "code",
   "execution_count": 62,
   "id": "8975ecaa-5f42-44b2-bb19-f2ac72904e04",
   "metadata": {},
   "outputs": [
    {
     "data": {
      "text/plain": [
       "array([[0., 0., 0.],\n",
       "       [0., 0., 0.],\n",
       "       [0., 0., 0.]])"
      ]
     },
     "execution_count": 62,
     "metadata": {},
     "output_type": "execute_result"
    }
   ],
   "source": [
    "#Answer_5\n",
    "\n",
    "#if we create a array first we import the numpy library\n",
    "import numpy as np \n",
    "arr=np.zeros((3,3))\n",
    "arr"
   ]
  },
  {
   "cell_type": "code",
   "execution_count": 63,
   "id": "888d3e92-0495-4675-be10-568f337a172a",
   "metadata": {},
   "outputs": [
    {
     "data": {
      "text/plain": [
       "(3, 3)"
      ]
     },
     "execution_count": 63,
     "metadata": {},
     "output_type": "execute_result"
    }
   ],
   "source": [
    "#as a see that shape of array is (3,3) but we can check it \n",
    "np.shape(arr)"
   ]
  },
  {
   "cell_type": "code",
   "execution_count": 64,
   "id": "35a39b03-91e4-4003-b679-66efd4492a89",
   "metadata": {},
   "outputs": [
    {
     "data": {
      "text/plain": [
       "9"
      ]
     },
     "execution_count": 64,
     "metadata": {},
     "output_type": "execute_result"
    }
   ],
   "source": [
    "#and we can check the  size of array\n",
    "np.size(arr)"
   ]
  },
  {
   "cell_type": "code",
   "execution_count": 65,
   "id": "7229308e-56b8-4484-be11-a7d6e1e5ec49",
   "metadata": {},
   "outputs": [
    {
     "data": {
      "text/plain": [
       "array([[1., 0., 0., 0., 0.],\n",
       "       [0., 1., 0., 0., 0.],\n",
       "       [0., 0., 1., 0., 0.],\n",
       "       [0., 0., 0., 1., 0.],\n",
       "       [0., 0., 0., 0., 1.]])"
      ]
     },
     "execution_count": 65,
     "metadata": {},
     "output_type": "execute_result"
    }
   ],
   "source": [
    "#Answer_6\n",
    "\n",
    "import numpy as np\n",
    "identity_matrix=np.eye(5)\n",
    "identity_matrix"
   ]
  },
  {
   "cell_type": "code",
   "execution_count": 66,
   "id": "e24b5c04-5dfb-4695-ad24-2b74e201f5c5",
   "metadata": {},
   "outputs": [
    {
     "data": {
      "text/plain": [
       "(5, 5)"
      ]
     },
     "execution_count": 66,
     "metadata": {},
     "output_type": "execute_result"
    }
   ],
   "source": [
    "#shape of the array\n",
    "np.shape(identity_matrix)"
   ]
  },
  {
   "cell_type": "code",
   "execution_count": 67,
   "id": "5144a2f7-60e2-4522-a490-66e2e7b7704c",
   "metadata": {},
   "outputs": [
    {
     "data": {
      "text/plain": [
       "25"
      ]
     },
     "execution_count": 67,
     "metadata": {},
     "output_type": "execute_result"
    }
   ],
   "source": [
    "np.size(identity_matrix)"
   ]
  },
  {
   "cell_type": "code",
   "execution_count": null,
   "id": "4b7dd448-2ea6-487c-9d4c-2e824f2000f1",
   "metadata": {},
   "outputs": [],
   "source": []
  }
 ],
 "metadata": {
  "kernelspec": {
   "display_name": "Python 3 (ipykernel)",
   "language": "python",
   "name": "python3"
  },
  "language_info": {
   "codemirror_mode": {
    "name": "ipython",
    "version": 3
   },
   "file_extension": ".py",
   "mimetype": "text/x-python",
   "name": "python",
   "nbconvert_exporter": "python",
   "pygments_lexer": "ipython3",
   "version": "3.10.8"
  }
 },
 "nbformat": 4,
 "nbformat_minor": 5
}
